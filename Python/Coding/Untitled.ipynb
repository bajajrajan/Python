{
 "cells": [
  {
   "cell_type": "code",
   "execution_count": 5,
   "metadata": {},
   "outputs": [
    {
     "name": "stdout",
     "output_type": "stream",
     "text": [
      "['t2', 't3', 't4', 't5']\n",
      "[{'table_name': 't2'}, {'table_name': 't3'}, {'table_name': 't4'}, {'table_name': 't5'}]\n"
     ]
    }
   ],
   "source": [
    "l1 = ['t1','t2','t3','t4','t5']\n",
    "tablelist = l1[1:]\n",
    "print(tablelist)\n",
    "eventlist = []\n",
    "for i in range(len(tablelist)):\n",
    "    subevent = {}\n",
    "    subevent[\"table_name\"] = tablelist[i]\n",
    "    eventlist.append(subevent)\n",
    "print(eventlist)"
   ]
  }
 ],
 "metadata": {
  "kernelspec": {
   "display_name": "Python 3",
   "language": "python",
   "name": "python3"
  },
  "language_info": {
   "codemirror_mode": {
    "name": "ipython",
    "version": 3
   },
   "file_extension": ".py",
   "mimetype": "text/x-python",
   "name": "python",
   "nbconvert_exporter": "python",
   "pygments_lexer": "ipython3",
   "version": "3.7.4"
  }
 },
 "nbformat": 4,
 "nbformat_minor": 2
}
